{
 "cells": [
  {
   "cell_type": "markdown",
   "metadata": {},
   "source": [
    "This is try to predict transembrane domaim from large set of data\n"
   ]
  },
  {
   "cell_type": "code",
   "execution_count": 1,
   "metadata": {
    "collapsed": true
   },
   "outputs": [],
   "source": [
    "from pyspark.mllib.regression import LabeledPoint\n",
    "from pyspark.mllib.classification import LogisticRegressionWithSGD\n",
    "from math import log, exp"
   ]
  },
  {
   "cell_type": "code",
   "execution_count": 2,
   "metadata": {
    "collapsed": true
   },
   "outputs": [],
   "source": [
    "# A dictionary for parameters of single amino acid\n",
    "# 'A': [Hydropathicity, side chain charge, polar, Interface Scale, pKa_sidechain, pI, Octanol Scale]\n",
    "aa_info = {'A': [1.80, 0, 0, 0.17, 0.0, 6.0, 0.5],\n",
    "           'C': [2.50, 0, 0, -0.24, 8.3, 5.1, 0],\n",
    "           'D': [-3.5, -1, 1, 1.23, 3.9, 2.8, 3.64],\n",
    "           'E': [-3.5, -1, 1, 0.0, 4.3, 3.2, 0.11],\n",
    "           'F': [2.80, 0, 0, -1.13, 0.0, 5.5, -1.71],\n",
    "           'G': [-0.4, 0, 0, 0, 0.0, 6.0, 1.15],\n",
    "           'H': [-3.2, 0, -1, 0.17, 6.0, 7.6, 0.11],\n",
    "           'I': [4.50, 0, 0, -0.31, 0.0, 6.0, -1.12],\n",
    "           'K': [-3.9, 1, -1, 0.99, 10.5, 9.7, 2.8],\n",
    "           'L': [3.80, 0, 0, -0.56, 0.0, 6.0, -1.25],\n",
    "           'M': [1.90, 0, 0, -0.23, 0.0, 5.7, -0.67],\n",
    "           'N': [-3.5, 0, 1, 0.42, 0.0, 5.4, 0.85],\n",
    "           'P': [2.80, 0, 0, 0.45, 0.0, 6.3, 0.14],\n",
    "           'Q': [-3.5, 0, 1, 0.58, 0.0, 5.7, 0.77],\n",
    "           'R': [-4.5, 1, -1, 0.81, 12.5, 10.8, 1.81],\n",
    "           'S': [-0.8, 0, 1, 0.13, 0.0, 5.6, 0.46],\n",
    "           'T': [-0.7, 0, 1, 0.14, 0.0, 5.6, 0.25],\n",
    "           'V': [4.20, 0, 0, 0.07, 0.0, 6.0, -0.46],\n",
    "           'W': [-0.9, 0, 0, -1.85, 0.0, 5.9, -2.09],\n",
    "           'Y': [-1.3, 0, 1, -0.94, 10.7, 5.7, -0.71]}"
   ]
  },
  {
   "cell_type": "code",
   "execution_count": 3,
   "metadata": {
    "collapsed": true
   },
   "outputs": [],
   "source": [
    "def parse(line):\n",
    "    \"\"\" Extract labels and features from raw data\n",
    "    \n",
    "    :param line (string): single line from the input file, starts with 0 or 1, \n",
    "                 0 means that it is not transmenbrane domain, 1 means it is transmenbrane domain\n",
    "                 20 charactors after the space, standing for 20 residues\n",
    "        \n",
    "    :return: LabeledPoint: labeled with 0 or 1, and the features calculated from the peptides sequence  \n",
    "             [Hydropathicity, side chain charge, polar, MW, pKa_sidechain, pI]\n",
    "             \n",
    "    \"\"\"\n",
    "    allAminoAcids = 'ACDEFGHIKLMNPQRSTVWY'\n",
    "    label, seq = line.split()\n",
    "    features = [0]*19\n",
    "    for aa in seq:\n",
    "        for i in range(7):\n",
    "            features[i] += aa_info[aa][i]\n",
    "        for i in [0, 1, 2, 3]:\n",
    "            if aa_info[aa][i] > 0:\n",
    "                features[7+2*i] += aa_info[aa][i]\n",
    "            else: \n",
    "                features[8+2*i] += aa_info[aa][i]\n",
    "        if aa_info[aa][6] > 0:\n",
    "            features[15] += aa_info[aa][i]\n",
    "        else: \n",
    "            features[16] += aa_info[aa][i]\n",
    "        if aa in 'VILMFWC':\n",
    "            features[17] += 1\n",
    "        if aa in 'RK':\n",
    "            features[18] += 1\n",
    "    return LabeledPoint(label, features)"
   ]
  },
  {
   "cell_type": "code",
   "execution_count": 4,
   "metadata": {
    "collapsed": false
   },
   "outputs": [
    {
     "name": "stdout",
     "output_type": "stream",
     "text": [
      "[LabeledPoint(0.0, [8.9,-1.0,6.0,5.47,33.1,116.8,11.46,30.9,-22.0,2.0,-3.0,8.0,-2.0,6.88,-1.41,6.81,-1.34,5.0,2.0]), LabeledPoint(0.0, [-27.8,-6.0,9.0,2.51,54.2,106.0,8.2,11.9,-39.7,1.0,-7.0,12.0,-3.0,3.38,-0.87,3.38,-0.87,2.0,1.0]), LabeledPoint(0.0, [-46.9,-6.0,14.0,4.93,58.5,102.0,14.89,4.2,-51.1,1.0,-7.0,16.0,-2.0,5.87,-0.94,5.8,-0.87,1.0,1.0]), LabeledPoint(0.0, [-4.4,2.0,4.0,4.72,52.2,128.0,10.57,28.8,-33.2,4.0,-2.0,8.0,-4.0,7.52,-2.8,7.45,-2.73,6.0,4.0]), LabeledPoint(1.0, [33.2,0.0,4.0,-8.75,19.0,116.5,-12.04,42.1,-8.9,0.0,0.0,4.0,0.0,1.31,-10.06,1.31,-10.06,12.0,0.0])]\n"
     ]
    }
   ],
   "source": [
    "fileName = 'YeastTM20.dat'\n",
    "rawData = sc.textFile(fileName, 2).map(parse)\n",
    "print rawData.take(5)"
   ]
  },
  {
   "cell_type": "code",
   "execution_count": 5,
   "metadata": {
    "collapsed": false
   },
   "outputs": [
    {
     "name": "stdout",
     "output_type": "stream",
     "text": [
      "26490 3326 3302 33118\n"
     ]
    }
   ],
   "source": [
    "weights = [0.8, 0.1, 0.1]\n",
    "seed = 1\n",
    "rawTrainData, rawValidationData, rawTestData = rawData.randomSplit(weights, seed)\n",
    "rawTrainData.cache()\n",
    "rawValidationData.cache()\n",
    "rawTestData.cache()\n",
    "nTrain = rawTrainData.count()\n",
    "nVal = rawValidationData.count()\n",
    "nTest = rawTestData.count()\n",
    "print nTrain, nVal, nTest, nTrain + nVal + nTest"
   ]
  },
  {
   "cell_type": "markdown",
   "metadata": {},
   "source": [
    "Loss should calculated for a give prediction and label"
   ]
  },
  {
   "cell_type": "code",
   "execution_count": 6,
   "metadata": {
    "collapsed": false
   },
   "outputs": [],
   "source": [
    "def computeLogLoss(p, y):\n",
    "    \"\"\"Calculates the value of log loss for a given probabilty and label.\n",
    "\n",
    "    Note:\n",
    "        log(0) is undefined, so when p is 0 we need to add a small value (epsilon) to it\n",
    "        and when p is 1 we need to subtract a small value (epsilon) from it.\n",
    "\n",
    "    :param p (float): A probabilty between 0 and 1.\n",
    "           y (int): A label.  Takes on the values 0 and 1.\n",
    "\n",
    "    :return: float: The log loss value.\n",
    "    \"\"\"\n",
    "    epsilon = 10e-12\n",
    "    if y == 1:\n",
    "        pp = p\n",
    "    if y == 0:\n",
    "        pp = 1-p\n",
    "    if pp == 0:\n",
    "        return -log(pp+epsilon)\n",
    "    elif pp ==1:\n",
    "        return -log(pp-epsilon)\n",
    "    else:\n",
    "        return -log(pp)\n",
    "    \n",
    "def getP(x, w, intercept):\n",
    "    \"\"\" calculate the probability of a set of features to be transmembrane domain\n",
    "\n",
    "    :param x: all the features, nparray(9)\n",
    "    :param w: model weight, nparray(9)\n",
    "    :param intercept: model intercept\n",
    "\n",
    "    :return: float: the probability of a set of features to be transmembrane domain\n",
    "    \"\"\"\n",
    "    rawPrediction = x.dot(w)+intercept\n",
    "\n",
    "    # Bound the raw prediction value\n",
    "    rawPrediction = min(rawPrediction, 20)\n",
    "    rawPrediction = max(rawPrediction, -20)\n",
    "    return 1/(1+exp(-rawPrediction))"
   ]
  },
  {
   "cell_type": "code",
   "execution_count": 7,
   "metadata": {
    "collapsed": true
   },
   "outputs": [],
   "source": [
    "def evaluateResults(model, data):\n",
    "    \"\"\" Calculates the log loss for the data given the model.\n",
    "\n",
    "    :param model (LogisticRegressionModel): A trained logistic regression model.\n",
    "           data (RDD of LabeledPoint): Labels and features for each observation.\n",
    "\n",
    "    :return: float: Log loss for the data.\n",
    "    \"\"\"\n",
    "    log_loss = (data.map(lambda x: computeLogLoss(getP(x.features, model.weights, model.intercept), x.label))\n",
    "                    .reduce(lambda x, y: x+y))/data.count()\n",
    "    return log_loss"
   ]
  },
  {
   "cell_type": "code",
   "execution_count": 8,
   "metadata": {
    "collapsed": false
   },
   "outputs": [
    {
     "name": "stdout",
     "output_type": "stream",
     "text": [
      "[13.196021072,0.75333899498,-0.311891614544,-5.50864829707,-1.05723381089,-1.8140446184,-8.2405744326,3.37225867775,9.82376239421,-0.89362860677,1.64696760175,-1.29629799285,0.984406378309,-2.48638062547,-3.0222676716,-2.47083324234,-3.03781505473,2.20595006412,-0.89362860677] 0.985999681109\n"
     ]
    }
   ],
   "source": [
    "# try fixed hyperparameters\n",
    "numIters = 500\n",
    "stepSize = 1\n",
    "regParam = 1e-6\n",
    "regType = 'l2'\n",
    "includeIntercept = True\n",
    "\n",
    "model0 = LogisticRegressionWithSGD.train(rawTrainData,\n",
    "                                         iterations=numIters, \n",
    "                                         step=stepSize, \n",
    "                                         miniBatchFraction=1.0, \n",
    "                                         initialWeights=None, \n",
    "                                         regParam=regParam, \n",
    "                                         regType=regType, \n",
    "                                         intercept=includeIntercept)\n",
    "print model0.weights, model0.intercept"
   ]
  },
  {
   "cell_type": "code",
   "execution_count": 9,
   "metadata": {
    "collapsed": false
   },
   "outputs": [
    {
     "name": "stdout",
     "output_type": "stream",
     "text": [
      "0.284144960362\n",
      "Baseline Train Logloss = 0.597\n",
      "\n"
     ]
    }
   ],
   "source": [
    "classOneFracTrain = (rawTrainData.map(lambda x: x.label)\n",
    "                                 .reduce(lambda x, y: x+y))/rawTrainData.count()\n",
    "print classOneFracTrain\n",
    "\n",
    "logLossTrBase = (rawTrainData.map(lambda x: x.label)\n",
    "                             .map(lambda x: computeLogLoss(classOneFracTrain, x))\n",
    "                             .reduce(lambda x, y: x+y))/rawTrainData.count()\n",
    "print 'Baseline Train Logloss = {0:.3f}\\n'.format(logLossTrBase)"
   ]
  },
  {
   "cell_type": "code",
   "execution_count": 10,
   "metadata": {
    "collapsed": false
   },
   "outputs": [
    {
     "name": "stdout",
     "output_type": "stream",
     "text": [
      "Logloss:\n",
      "\tLogReg = 0.806\n"
     ]
    }
   ],
   "source": [
    "logLossTrLR0 = evaluateResults(model0, rawTrainData)\n",
    "print ('Logloss:\\n\\tLogReg = {0:.3f}'\n",
    "       .format(logLossTrLR0))"
   ]
  },
  {
   "cell_type": "code",
   "execution_count": 11,
   "metadata": {
    "collapsed": false
   },
   "outputs": [
    {
     "name": "stdout",
     "output_type": "stream",
     "text": [
      "Logloss:\n",
      "\tLogReg = 0.788\n"
     ]
    }
   ],
   "source": [
    "logLossVa = evaluateResults(model0, rawValidationData)\n",
    "print ('Logloss:\\n\\tLogReg = {0:.3f}'\n",
    "       .format(logLossVa))"
   ]
  },
  {
   "cell_type": "code",
   "execution_count": 12,
   "metadata": {
    "collapsed": false
   },
   "outputs": [
    {
     "name": "stdout",
     "output_type": "stream",
     "text": [
      "\tstepSize = 0.01, regParam = 1e-06: logloss = 0.128\n",
      "\tstepSize = 0.01, regParam = 1e-03: logloss = 0.128\n",
      "\tstepSize = 0.10, regParam = 1e-06: logloss = 0.632\n",
      "\tstepSize = 0.10, regParam = 1e-03: logloss = 0.631\n",
      "\tstepSize = 1.00, regParam = 1e-06: logloss = 0.922\n",
      "\tstepSize = 1.00, regParam = 1e-03: logloss = 0.922\n",
      "\tstepSize = 10.00, regParam = 1e-06: logloss = 0.926\n",
      "\tstepSize = 10.00, regParam = 1e-03: logloss = 0.920\n",
      "Validation Logloss:\n",
      "\tBaseline = 0.597\n",
      "\tLogReg = 0.128\n"
     ]
    }
   ],
   "source": [
    "numIters = 100\n",
    "regType = 'l2'\n",
    "includeIntercept = True\n",
    "\n",
    "# Initialize variables using values from initial model training\n",
    "bestModel = None\n",
    "bestLogLoss = 1e10\n",
    "\n",
    "stepSizes = [0.01, 0.1, 1, 10]\n",
    "regParams = [1e-6, 1e-3]\n",
    "for stepSize in stepSizes:\n",
    "    for regParam in regParams:\n",
    "        model = (LogisticRegressionWithSGD\n",
    "                 .train(rawTrainData, numIters, stepSize, regParam=regParam, regType=regType,\n",
    "                        intercept=includeIntercept))\n",
    "        logLossVa = evaluateResults(model, rawValidationData)\n",
    "        print ('\\tstepSize = {0:.2f}, regParam = {1:.0e}: logloss = {2:.3f}'\n",
    "               .format(stepSize, regParam, logLossVa))\n",
    "        if (logLossVa < bestLogLoss):\n",
    "            bestModel = model\n",
    "            bestLogLoss = logLossVa\n",
    "\n",
    "print ('Validation Logloss:\\n\\tBaseline = {0:.3f}\\n\\tLogReg = {1:.3f}'\n",
    "       .format(logLossTrBase, bestLogLoss))"
   ]
  },
  {
   "cell_type": "code",
   "execution_count": 13,
   "metadata": {
    "collapsed": false
   },
   "outputs": [
    {
     "name": "stdout",
     "output_type": "stream",
     "text": [
      "Logloss:\n",
      "\tLogReg = 0.159\n"
     ]
    }
   ],
   "source": [
    "logLossTe = evaluateResults(bestModel, rawTestData)\n",
    "print ('Logloss:\\n\\tLogReg = {0:.3f}'\n",
    "       .format(logLossTe))"
   ]
  },
  {
   "cell_type": "code",
   "execution_count": 14,
   "metadata": {
    "collapsed": false
   },
   "outputs": [
    {
     "name": "stdout",
     "output_type": "stream",
     "text": [
      "[0.127752353647,0.0248992252734,0.00743572396795,-0.103688386021,-0.00750701102293,-0.00174062161425,-0.102516810939,-0.02997609561,0.157728449257,-0.0161521904671,0.0410514157405,-0.0123707848711,0.019806508839,-0.0484790847163,-0.0552093013047,-0.0478423792262,-0.0558460067948,0.0278284300459,-0.0161521904671] 0.999916812177\n"
     ]
    }
   ],
   "source": [
    "# More iteration with optimized parameters\n",
    "numIters = 10000\n",
    "stepSize = 0.01\n",
    "regParam = 1e-6\n",
    "regType = 'l2'\n",
    "includeIntercept = True\n",
    "\n",
    "model1 = LogisticRegressionWithSGD.train(rawTrainData,\n",
    "                                         iterations=numIters, \n",
    "                                         step=stepSize, \n",
    "                                         miniBatchFraction=1.0, \n",
    "                                         initialWeights=None, \n",
    "                                         regParam=regParam, \n",
    "                                         regType=regType, \n",
    "                                         intercept=includeIntercept)\n",
    "print model1.weights, model1.intercept"
   ]
  },
  {
   "cell_type": "code",
   "execution_count": 15,
   "metadata": {
    "collapsed": false
   },
   "outputs": [
    {
     "name": "stdout",
     "output_type": "stream",
     "text": [
      "Logloss:\n",
      "\tLogReg = 0.104\n"
     ]
    }
   ],
   "source": [
    "logLossTe1 = evaluateResults(model1, rawTestData)\n",
    "print ('Logloss:\\n\\tLogReg = {0:.3f}'\n",
    "       .format(logLossTe1))"
   ]
  },
  {
   "cell_type": "code",
   "execution_count": 16,
   "metadata": {
    "collapsed": false
   },
   "outputs": [
    {
     "name": "stdout",
     "output_type": "stream",
     "text": [
      "(0.0,[8.9,-1.0,6.0,5.47,33.1,116.8,11.46,30.9,-22.0,2.0,-3.0,8.0,-2.0,6.88,-1.41,6.81,-1.34,5.0,2.0])\n",
      "0.00589740348095\n",
      "2.06115358327e-09\n",
      "(0.0,[-27.8,-6.0,9.0,2.51,54.2,106.0,8.2,11.9,-39.7,1.0,-7.0,12.0,-3.0,3.38,-0.87,3.38,-0.87,2.0,1.0])\n",
      "8.75642730504e-06\n",
      "2.06115358327e-09\n",
      "(0.0,[-46.9,-6.0,14.0,4.93,58.5,102.0,14.89,4.2,-51.1,1.0,-7.0,16.0,-2.0,5.87,-0.94,5.8,-0.87,1.0,1.0])\n",
      "4.72361429188e-08\n",
      "2.06115358327e-09\n",
      "(0.0,[-4.4,2.0,4.0,4.72,52.2,128.0,10.57,28.8,-33.2,4.0,-2.0,8.0,-4.0,7.52,-2.8,7.45,-2.73,6.0,4.0])\n",
      "0.000223313507668\n",
      "2.06115358327e-09\n",
      "(1.0,[33.2,0.0,4.0,-8.75,19.0,116.5,-12.04,42.1,-8.9,0.0,0.0,4.0,0.0,1.31,-10.06,1.31,-10.06,12.0,0.0])\n",
      "0.996587577197\n",
      "2.06115369429e-09\n",
      "(1.0,[24.1,0.0,5.0,-6.57,19.0,116.7,-7.73,36.6,-12.5,0.0,0.0,5.0,0.0,2.05,-8.62,2.05,-8.62,10.0,0.0])\n",
      "0.958963396286\n",
      "2.06115369429e-09\n",
      "(1.0,[19.4,1.0,7.0,-4.07,10.5,118.5,-5.57,30.4,-11.0,1.0,0.0,8.0,-1.0,2.22,-6.29,2.22,-6.29,10.0,1.0])\n",
      "0.9028087437\n",
      "2.06115369429e-09\n",
      "(1.0,[19.7,0.0,10.0,-5.28,10.7,113.5,-8.48,30.7,-11.0,0.0,0.0,10.0,0.0,1.48,-6.76,1.48,-6.76,10.0,0.0])\n",
      "0.944663840872\n",
      "2.06115369429e-09\n",
      "(1.0,[41.7,-1.0,4.0,-6.53,12.6,113.0,-12.85,51.4,-9.7,0.0,-1.0,4.0,0.0,0.98,-7.51,0.7,-7.23,15.0,0.0])\n",
      "0.997597224696\n",
      "2.06115369429e-09\n",
      "(1.0,[24.5,0.0,6.0,-1.61,0.0,115.5,-3.63,35.3,-10.8,0.0,0.0,6.0,0.0,1.85,-3.46,1.71,-3.32,11.0,0.0])\n",
      "0.899139252639\n",
      "2.06115369429e-09\n"
     ]
    }
   ],
   "source": [
    "for x in rawData.take(10):\n",
    "    print x\n",
    "    print getP(x.features, model1.weights, model1.intercept)\n",
    "    print computeLogLoss(getP(x.features, model.weights, model.intercept), x.label)"
   ]
  },
  {
   "cell_type": "code",
   "execution_count": 29,
   "metadata": {
    "collapsed": false
   },
   "outputs": [
    {
     "name": "stdout",
     "output_type": "stream",
     "text": [
      "[0.197843553366,0.0145948882501,-0.0100536691748,-0.0821223158907,-0.0167367335816,-0.0405236595803,-0.118249079876,0.0304857073854,-0.0119070274029]\n"
     ]
    }
   ],
   "source": [
    "print model0.weights"
   ]
  },
  {
   "cell_type": "code",
   "execution_count": null,
   "metadata": {
    "collapsed": true
   },
   "outputs": [],
   "source": []
  }
 ],
 "metadata": {
  "kernelspec": {
   "display_name": "Python 2",
   "language": "python",
   "name": "python2"
  },
  "language_info": {
   "codemirror_mode": {
    "name": "ipython",
    "version": 2
   },
   "file_extension": ".py",
   "mimetype": "text/x-python",
   "name": "python",
   "nbconvert_exporter": "python",
   "pygments_lexer": "ipython2",
   "version": "2.7.6"
  }
 },
 "nbformat": 4,
 "nbformat_minor": 0
}
