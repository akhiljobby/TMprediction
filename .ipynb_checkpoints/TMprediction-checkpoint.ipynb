{
 "cells": [
  {
   "cell_type": "markdown",
   "metadata": {},
   "source": [
    "This is try to predict transembrane domaim from large set of data\n"
   ]
  },
  {
   "cell_type": "code",
   "execution_count": 2,
   "metadata": {
    "collapsed": true
   },
   "outputs": [],
   "source": [
    "from pyspark.mllib.regression import LabeledPoint\n",
    "from pyspark.mllib.classification import LogisticRegressionWithSGD\n",
    "from math import log, exp"
   ]
  },
  {
   "cell_type": "code",
   "execution_count": 3,
   "metadata": {
    "collapsed": true
   },
   "outputs": [],
   "source": [
    "# A dictionary for parameters of single amino acid\n",
    "# 'A': [Hydropathicity, side chain charge, polar, Interface Scale, pKa_sidechain, pI, Octanol Scale]\n",
    "aa_info = {'A': [1.80, 0, 0, 0.17, 0.0, 6.0, 0.5],\n",
    "           'C': [2.50, 0, 0, -0.24, 8.3, 5.1, 0],\n",
    "           'D': [-3.5, -1, 1, 1.23, 3.9, 2.8, 3.64],\n",
    "           'E': [-3.5, -1, 1, 0.0, 4.3, 3.2, 0.11],\n",
    "           'F': [2.80, 0, 0, -1.13, 0.0, 5.5, -1.71],\n",
    "           'G': [-0.4, 0, 0, 0, 0.0, 6.0, 1.15],\n",
    "           'H': [-3.2, 0, -1, 0.17, 6.0, 7.6, 0.11],\n",
    "           'I': [4.50, 0, 0, -0.31, 0.0, 6.0, -1.12],\n",
    "           'K': [-3.9, 1, -1, 0.99, 10.5, 9.7, 2.8],\n",
    "           'L': [3.80, 0, 0, -0.56, 0.0, 6.0, -1.25],\n",
    "           'M': [1.90, 0, 0, -0.23, 0.0, 5.7, -0.67],\n",
    "           'N': [-3.5, 0, 1, 0.42, 0.0, 5.4, 0.85],\n",
    "           'P': [2.80, 0, 0, 0.45, 0.0, 6.3, 0.14],\n",
    "           'Q': [-3.5, 0, 1, 0.58, 0.0, 5.7, 0.77],\n",
    "           'R': [-4.5, 1, -1, 0.81, 12.5, 10.8, 1.81],\n",
    "           'S': [-0.8, 0, 1, 0.13, 0.0, 5.6, 0.46],\n",
    "           'T': [-0.7, 0, 1, 0.14, 0.0, 5.6, 0.25],\n",
    "           'V': [4.20, 0, 0, 0.07, 0.0, 6.0, -0.46],\n",
    "           'W': [-0.9, 0, 0, -1.85, 0.0, 5.9, -2.09],\n",
    "           'Y': [-1.3, 0, 1, -0.94, 10.7, 5.7, -0.71]}"
   ]
  },
  {
   "cell_type": "code",
   "execution_count": 4,
   "metadata": {
    "collapsed": true
   },
   "outputs": [],
   "source": [
    "def parse(line):\n",
    "    \"\"\" Extract labels and features from raw data\n",
    "    \n",
    "    :param line: single line from the input file, starts with 0 or 1, \n",
    "                 0 means that it is not transmenbrane domain, 1 means it is transmenbrane domain\n",
    "                 20 charactors after the space, sanding for 20 residues\n",
    "        \n",
    "    :return: LabeledPoint: labeled with 0 or 1, and the features calculated from the peptides sequence  \n",
    "             [Hydropathicity, side chain charge, polar, MW, pKa_sidechain, pI]\n",
    "             \n",
    "    \"\"\"\n",
    "    allAminoAcids = 'ACDEFGHIKLMNPQRSTVWY'\n",
    "    label, seq = line.split()\n",
    "    features = [0]*9\n",
    "    for aa in seq:\n",
    "        for i in range(7):\n",
    "            features[i] += aa_info[aa][i]\n",
    "        if aa in 'VILMFWC':\n",
    "            features[7] += 1\n",
    "        if aa in 'RK':\n",
    "            features[8] += 1\n",
    "    return LabeledPoint(label, features)"
   ]
  },
  {
   "cell_type": "code",
   "execution_count": 5,
   "metadata": {
    "collapsed": false
   },
   "outputs": [
    {
     "name": "stdout",
     "output_type": "stream",
     "text": [
      "[LabeledPoint(0.0, [8.9,-1.0,6.0,5.47,33.1,116.8,11.46,5.0,2.0]), LabeledPoint(0.0, [-27.8,-6.0,9.0,2.51,54.2,106.0,8.2,2.0,1.0]), LabeledPoint(0.0, [-46.9,-6.0,14.0,4.93,58.5,102.0,14.89,1.0,1.0]), LabeledPoint(0.0, [-4.4,2.0,4.0,4.72,52.2,128.0,10.57,6.0,4.0]), LabeledPoint(1.0, [33.2,0.0,4.0,-8.75,19.0,116.5,-12.04,12.0,0.0])]\n"
     ]
    }
   ],
   "source": [
    "fileName = 'YeastTM20.dat'\n",
    "rawData = sc.textFile(fileName, 2).map(parse)\n",
    "print rawData.take(5)"
   ]
  },
  {
   "cell_type": "code",
   "execution_count": 6,
   "metadata": {
    "collapsed": false
   },
   "outputs": [
    {
     "name": "stdout",
     "output_type": "stream",
     "text": [
      "26490 3326 3302 33118\n"
     ]
    }
   ],
   "source": [
    "weights = [0.8, 0.1, 0.1]\n",
    "seed = 1\n",
    "rawTrainData, rawValidationData, rawTestData = rawData.randomSplit(weights, seed)\n",
    "rawTrainData.cache()\n",
    "rawValidationData.cache()\n",
    "rawTestData.cache()\n",
    "nTrain = rawTrainData.count()\n",
    "nVal = rawValidationData.count()\n",
    "nTest = rawTestData.count()\n",
    "print nTrain, nVal, nTest, nTrain + nVal + nTest"
   ]
  },
  {
   "cell_type": "markdown",
   "metadata": {},
   "source": [
    "Loss should calculated for a give prediction and label"
   ]
  },
  {
   "cell_type": "code",
   "execution_count": 7,
   "metadata": {
    "collapsed": false
   },
   "outputs": [],
   "source": [
    "def computeLogLoss(p, y):\n",
    "    \"\"\"Calculates the value of log loss for a given probabilty and label.\n",
    "\n",
    "    Note:\n",
    "        log(0) is undefined, so when p is 0 we need to add a small value (epsilon) to it\n",
    "        and when p is 1 we need to subtract a small value (epsilon) from it.\n",
    "\n",
    "    Args:\n",
    "        p (float): A probabilty between 0 and 1.\n",
    "        y (int): A label.  Takes on the values 0 and 1.\n",
    "\n",
    "    Returns:\n",
    "        float: The log loss value.\n",
    "    \"\"\"\n",
    "    epsilon = 10e-12\n",
    "    if y == 1:\n",
    "        pp = p\n",
    "    if y == 0:\n",
    "        pp = 1-p\n",
    "    if pp == 0:\n",
    "        return -log(pp+epsilon)\n",
    "    elif pp ==1:\n",
    "        return -log(pp-epsilon)\n",
    "    else:\n",
    "        return -log(pp)\n",
    "    \n",
    "def getP(x, w, intercept):\n",
    "    \"\"\"Calculate the probability for an observation given a set of weights and intercept.\n",
    "\n",
    "    Note:\n",
    "        We'll bound our raw prediction between 20 and -20 for numerical purposes.\n",
    "\n",
    "    Args:\n",
    "        x (SparseVector): A vector with values of 1.0 for features that exist in this\n",
    "            observation and 0.0 otherwise.\n",
    "        w (DenseVector): A vector of weights (betas) for the model.\n",
    "        intercept (float): The model's intercept.\n",
    "\n",
    "    Returns:\n",
    "        float: A probability between 0 and 1.\n",
    "    \"\"\"\n",
    "    rawPrediction = x.dot(w)+intercept\n",
    "\n",
    "    # Bound the raw prediction value\n",
    "    rawPrediction = min(rawPrediction, 20)\n",
    "    rawPrediction = max(rawPrediction, -20)\n",
    "    return 1/(1+exp(-rawPrediction))"
   ]
  },
  {
   "cell_type": "code",
   "execution_count": 8,
   "metadata": {
    "collapsed": true
   },
   "outputs": [],
   "source": [
    "def evaluateResults(model, data):\n",
    "    \"\"\"Calculates the log loss for the data given the model.\n",
    "\n",
    "    Args:\n",
    "        model (LogisticRegressionModel): A trained logistic regression model.\n",
    "        data (RDD of LabeledPoint): Labels and features for each observation.\n",
    "\n",
    "    Returns:\n",
    "        float: Log loss for the data.\n",
    "    \"\"\"\n",
    "    log_loss = (data.map(lambda x: computeLogLoss(getP(x.features, model.weights, model.intercept), x.label))\n",
    "                    .reduce(lambda x, y: x+y))/data.count()\n",
    "    return log_loss"
   ]
  },
  {
   "cell_type": "code",
   "execution_count": 10,
   "metadata": {
    "collapsed": false
   },
   "outputs": [
    {
     "name": "stdout",
     "output_type": "stream",
     "text": [
      "[14.8043966925,0.859896618258,-0.669030917881,-5.88642694337,-0.696606468457,-2.49932420251,-8.7145353456,2.31841152976,-0.926274412398] 0.977904503532\n"
     ]
    }
   ],
   "source": [
    "# try fixed hyperparameters\n",
    "numIters = 500\n",
    "stepSize = 1\n",
    "regParam = 1e-6\n",
    "regType = 'l2'\n",
    "includeIntercept = True\n",
    "\n",
    "model0 = LogisticRegressionWithSGD.train(rawTrainData,\n",
    "                                         iterations=numIters, \n",
    "                                         step=stepSize, \n",
    "                                         miniBatchFraction=1.0, \n",
    "                                         initialWeights=None, \n",
    "                                         regParam=regParam, \n",
    "                                         regType=regType, \n",
    "                                         intercept=includeIntercept)\n",
    "print model0.weights, model0.intercept"
   ]
  },
  {
   "cell_type": "code",
   "execution_count": 11,
   "metadata": {
    "collapsed": false
   },
   "outputs": [
    {
     "name": "stdout",
     "output_type": "stream",
     "text": [
      "0.284144960362\n",
      "Baseline Train Logloss = 0.597\n",
      "\n"
     ]
    }
   ],
   "source": [
    "classOneFracTrain = (rawTrainData.map(lambda x: x.label)\n",
    "                                 .reduce(lambda x, y: x+y))/rawTrainData.count()\n",
    "print classOneFracTrain\n",
    "\n",
    "logLossTrBase = (rawTrainData.map(lambda x: x.label)\n",
    "                             .map(lambda x: computeLogLoss(classOneFracTrain, x))\n",
    "                             .reduce(lambda x, y: x+y))/rawTrainData.count()\n",
    "print 'Baseline Train Logloss = {0:.3f}\\n'.format(logLossTrBase)"
   ]
  },
  {
   "cell_type": "code",
   "execution_count": 12,
   "metadata": {
    "collapsed": false
   },
   "outputs": [
    {
     "name": "stdout",
     "output_type": "stream",
     "text": [
      "Logloss:\n",
      "\tLogReg = 0.857\n"
     ]
    }
   ],
   "source": [
    "logLossTrLR0 = evaluateResults(model0, rawTrainData)\n",
    "print ('Logloss:\\n\\tLogReg = {0:.3f}'\n",
    "       .format(logLossTrLR0))"
   ]
  },
  {
   "cell_type": "code",
   "execution_count": 13,
   "metadata": {
    "collapsed": false
   },
   "outputs": [
    {
     "name": "stdout",
     "output_type": "stream",
     "text": [
      "Logloss:\n",
      "\tLogReg = 0.793\n"
     ]
    }
   ],
   "source": [
    "logLossVa = evaluateResults(model0, rawValidationData)\n",
    "print ('Logloss:\\n\\tLogReg = {0:.3f}'\n",
    "       .format(logLossVa))"
   ]
  },
  {
   "cell_type": "code",
   "execution_count": 15,
   "metadata": {
    "collapsed": false
   },
   "outputs": [
    {
     "name": "stdout",
     "output_type": "stream",
     "text": [
      "\tstepSize = 0.01, regParam = 1e-06: logloss = 0.124\n",
      "\tstepSize = 0.01, regParam = 1e-03: logloss = 0.124\n",
      "\tstepSize = 0.10, regParam = 1e-06: logloss = 0.578\n",
      "\tstepSize = 0.10, regParam = 1e-03: logloss = 0.577\n",
      "\tstepSize = 1.00, regParam = 1e-06: logloss = 0.937\n",
      "\tstepSize = 1.00, regParam = 1e-03: logloss = 0.935\n",
      "\tstepSize = 10.00, regParam = 1e-06: logloss = 0.964\n",
      "\tstepSize = 10.00, regParam = 1e-03: logloss = 0.947\n",
      "Validation Logloss:\n",
      "\tBaseline = 0.597\n",
      "\tLogReg = 0.124\n"
     ]
    }
   ],
   "source": [
    "numIters = 100\n",
    "regType = 'l2'\n",
    "includeIntercept = True\n",
    "\n",
    "# Initialize variables using values from initial model training\n",
    "bestModel = None\n",
    "bestLogLoss = 1e10\n",
    "\n",
    "stepSizes = [0.01, 0.1, 1, 10]\n",
    "regParams = [1e-6, 1e-3]\n",
    "for stepSize in stepSizes:\n",
    "    for regParam in regParams:\n",
    "        model = (LogisticRegressionWithSGD\n",
    "                 .train(rawTrainData, numIters, stepSize, regParam=regParam, regType=regType,\n",
    "                        intercept=includeIntercept))\n",
    "        logLossVa = evaluateResults(model, rawValidationData)\n",
    "        print ('\\tstepSize = {0:.2f}, regParam = {1:.0e}: logloss = {2:.3f}'\n",
    "               .format(stepSize, regParam, logLossVa))\n",
    "        if (logLossVa < bestLogLoss):\n",
    "            bestModel = model\n",
    "            bestLogLoss = logLossVa\n",
    "\n",
    "print ('Validation Logloss:\\n\\tBaseline = {0:.3f}\\n\\tLogReg = {1:.3f}'\n",
    "       .format(logLossTrBase, bestLogLoss))"
   ]
  },
  {
   "cell_type": "code",
   "execution_count": 16,
   "metadata": {
    "collapsed": false
   },
   "outputs": [
    {
     "name": "stdout",
     "output_type": "stream",
     "text": [
      "Logloss:\n",
      "\tLogReg = 0.151\n"
     ]
    }
   ],
   "source": [
    "logLossTe = evaluateResults(bestModel, rawTestData)\n",
    "print ('Logloss:\\n\\tLogReg = {0:.3f}'\n",
    "       .format(logLossTe))"
   ]
  },
  {
   "cell_type": "code",
   "execution_count": 10,
   "metadata": {
    "collapsed": false
   },
   "outputs": [
    {
     "name": "stdout",
     "output_type": "stream",
     "text": [
      "[0.179153018013,0.0283969783774,-0.000504497958365,-0.120192164047,-0.0173080116018,-0.037859079514,-0.131153338053,0.0228327769761,-0.0181199689548] 0.999521602093\n"
     ]
    }
   ],
   "source": [
    "# More iteration with optimized parameters\n",
    "numIters = 5000\n",
    "stepSize = 0.01\n",
    "regParam = 1e-6\n",
    "regType = 'l2'\n",
    "includeIntercept = True\n",
    "\n",
    "model1 = LogisticRegressionWithSGD.train(rawTrainData,\n",
    "                                         iterations=numIters, \n",
    "                                         step=stepSize, \n",
    "                                         miniBatchFraction=1.0, \n",
    "                                         initialWeights=None, \n",
    "                                         regParam=regParam, \n",
    "                                         regType=regType, \n",
    "                                         intercept=includeIntercept)\n",
    "print model1.weights, model1.intercept"
   ]
  },
  {
   "cell_type": "code",
   "execution_count": 18,
   "metadata": {
    "collapsed": false
   },
   "outputs": [
    {
     "name": "stdout",
     "output_type": "stream",
     "text": [
      "Logloss:\n",
      "\tLogReg = 0.119\n"
     ]
    }
   ],
   "source": [
    "logLossTe1 = evaluateResults(model1, rawTestData)\n",
    "print ('Logloss:\\n\\tLogReg = {0:.3f}'\n",
    "       .format(logLossTe1))"
   ]
  },
  {
   "cell_type": "code",
   "execution_count": 28,
   "metadata": {
    "collapsed": false
   },
   "outputs": [
    {
     "name": "stdout",
     "output_type": "stream",
     "text": [
      "(0.0,[8.9,-1.0,6.0,5.47,33.1,116.8,11.46,5.0,2.0])\n",
      "0.0136887058158\n",
      "0.0134959647309\n",
      "(0.0,[-27.8,-6.0,9.0,2.51,54.2,106.0,8.2,2.0,1.0])\n",
      "1.65706592483e-05\n",
      "8.42738374866e-06\n",
      "(0.0,[-46.9,-6.0,14.0,4.93,58.5,102.0,14.89,1.0,1.0])\n",
      "1.42044975535e-07\n",
      "5.80012745778e-08\n",
      "(0.0,[-4.4,2.0,4.0,4.72,52.2,128.0,10.57,6.0,4.0])\n",
      "0.000584096720652\n",
      "0.000409526109164\n",
      "(1.0,[33.2,0.0,4.0,-8.75,19.0,116.5,-12.04,12.0,0.0])\n",
      "0.993286451278\n",
      "0.00569112093568\n",
      "(1.0,[24.1,0.0,5.0,-6.57,19.0,116.7,-7.73,10.0,0.0])\n",
      "0.918990181632\n",
      "0.0766422312658\n",
      "(1.0,[19.4,1.0,7.0,-4.07,10.5,118.5,-5.57,10.0,1.0])\n",
      "0.748384874676\n",
      "0.251818107502\n",
      "(1.0,[19.7,0.0,10.0,-5.28,10.7,113.5,-8.48,10.0,0.0])\n",
      "0.853117547392\n",
      "0.140893858006\n",
      "(1.0,[41.7,-1.0,4.0,-6.53,12.6,113.0,-12.85,15.0,0.0])\n",
      "0.999011015046\n",
      "0.000698261172206\n",
      "(1.0,[24.5,0.0,6.0,-1.61,0.0,115.5,-3.63,11.0,0.0])\n",
      "0.881085817363\n",
      "0.0904585007629\n"
     ]
    }
   ],
   "source": [
    "for x in rawData.take(10):\n",
    "    print x\n",
    "    print getP(x.features, model1.weights, model1.intercept)\n",
    "    print computeLogLoss(getP(x.features, model.weights, model.intercept), x.label)"
   ]
  },
  {
   "cell_type": "code",
   "execution_count": 29,
   "metadata": {
    "collapsed": false
   },
   "outputs": [
    {
     "name": "stdout",
     "output_type": "stream",
     "text": [
      "[0.197843553366,0.0145948882501,-0.0100536691748,-0.0821223158907,-0.0167367335816,-0.0405236595803,-0.118249079876,0.0304857073854,-0.0119070274029]\n"
     ]
    }
   ],
   "source": [
    "print model0.weights"
   ]
  },
  {
   "cell_type": "code",
   "execution_count": null,
   "metadata": {
    "collapsed": true
   },
   "outputs": [],
   "source": []
  }
 ],
 "metadata": {
  "kernelspec": {
   "display_name": "Python 2",
   "language": "python",
   "name": "python2"
  },
  "language_info": {
   "codemirror_mode": {
    "name": "ipython",
    "version": 2
   },
   "file_extension": ".py",
   "mimetype": "text/x-python",
   "name": "python",
   "nbconvert_exporter": "python",
   "pygments_lexer": "ipython2",
   "version": "2.7.6"
  }
 },
 "nbformat": 4,
 "nbformat_minor": 0
}
